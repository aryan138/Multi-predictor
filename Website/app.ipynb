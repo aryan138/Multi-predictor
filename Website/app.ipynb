{
 "cells": [
  {
   "cell_type": "code",
   "execution_count": 1,
   "metadata": {},
   "outputs": [],
   "source": [
    "from flask import Flask, render_template, request\n",
    "import sqlite3\n",
    "import pandas as pd\n",
    "import joblib"
   ]
  },
  {
   "cell_type": "code",
   "execution_count": 2,
   "metadata": {},
   "outputs": [],
   "source": [
    "app = Flask(__name__)\n",
    "\n",
    "ames_regression_model = joblib.load('housing_regression_model')\n",
    "ames_classification_model = joblib.load('housing_classification_model')\n",
    "titanic_regression_model = joblib.load('titanic_regression_model')\n",
    "titanic_classification_model = joblib.load('titanic_classification_model')\n",
    "@app.route('/')\n",
    "def home(name=None):\n",
    "    return render_template('index.html',name=name)\n",
    "def fetch_sample_data():\n",
    "    conn = sqlite3.connect('ames_housing.db')\n",
    "    cursor = conn.cursor()\n",
    "    cursor.execute(\"SELECT * FROM ames_housing LIMIT 5\") \n",
    "    sample_data = cursor.fetchall()\n",
    "    conn.close()\n",
    "    return sample_data\n",
    "@app.route('/about_ames.html')\n",
    "def about_ames():\n",
    "    sample_data = fetch_sample_data()\n",
    "    return render_template('about_ames.html', sample_data=sample_data)\n",
    "\n",
    "\n",
    "\n",
    "def fetch_sample_dat():\n",
    "    conn = sqlite3.connect('titanic.db')\n",
    "    cursor = conn.cursor()\n",
    "    cursor.execute(\"SELECT * FROM titanic LIMIT 5\") \n",
    "    sample_dat = cursor.fetchall()\n",
    "\n",
    "    conn.close()\n",
    "\n",
    "    return sample_dat\n",
    "@app.route('/about_titanic.html')\n",
    "def about_titanic():\n",
    "    sample_dat = fetch_sample_dat()\n",
    "    return render_template('about_titanic.html', sample_data=sample_dat)"
   ]
  },
  {
   "cell_type": "code",
   "execution_count": 3,
   "metadata": {},
   "outputs": [],
   "source": [
    "@app.route('/titanic_classification.html')\n",
    "def titanic_classification(name=None):\n",
    "    \n",
    "        return render_template('titanic_classification.html',name=name)\n",
    "    \n",
    "@app.route('/classification_prediction\"',methods=[\"GET\",\"POST\"])\n",
    "def get_value():\n",
    "    if request.method==\"POST\": \n",
    "        Pclass=int(request.form.get('pclass'))\n",
    "        Sex=int (request.form.get('sex'))\n",
    "        Age =int (request.form.get('age'))\n",
    "        Sibsp=int(request.form.get('sibsp'))\n",
    "        Parch=int(request.form.get('parch'))\n",
    "        Fare=float(request.form.get('fare'))\n",
    "        Embarked=float(request.form.get('embarked'))\n",
    "\n",
    "        ss=titanic_classification_model.predict([[ Pclass, Sex, Age, Sibsp, Parch,Fare, Embarked ]])\n",
    "    return render_template('classification_prediction.html',prediction=ss)"
   ]
  },
  {
   "cell_type": "code",
   "execution_count": 4,
   "metadata": {},
   "outputs": [],
   "source": [
    "@app.route('/titanic_regression.html')\n",
    "def titanic_regression(name=None):\n",
    "    \n",
    "        return render_template('titanic_regression.html',name=name)\n",
    "    \n",
    "@app.route('/regression_prediction.html',methods=[\"GET\",\"POST\"])\n",
    "def get_valu():\n",
    "    if request.method==\"POST\": \n",
    "        Pclass=int(request.form.get('pclass'))\n",
    "        Age =int (request.form.get('age'))\n",
    "        Sibsp=int(request.form.get('sibsp'))\n",
    "        Parch=int(request.form.get('parch'))\n",
    "        Embarked=float(request.form.get('embarked'))\n",
    "\n",
    "        ss=titanic_regression_model.predict([[ Pclass, Age, Sibsp, Parch,Embarked ]])\n",
    "    return render_template('regression_prediction.html',prediction=ss)\n",
    "        "
   ]
  },
  {
   "cell_type": "code",
   "execution_count": 5,
   "metadata": {},
   "outputs": [],
   "source": [
    "@app.route('/ames_classification.html')\n",
    "def ames_classification(name=None):\n",
    "    \n",
    "        return render_template('ames_classification.html',name=name)\n",
    "    \n",
    "@app.route('/classification_prediction.html',methods=[\"GET\",\"POST\"])\n",
    "def get_val():\n",
    "    if request.method==\"POST\": \n",
    "        Overall_qual=int(request.form.get('overall_qual'))\n",
    "        Gr_liv_area=int (request.form.get('gr_liv_area'))\n",
    "        Garage_cars =float (request.form.get('garage_cars'))\n",
    "        Garage_area=float(request.form.get('garage_area'))\n",
    "        Total_bsmt_sf=float(request.form.get('total_bsmt_sf'))\n",
    "        \n",
    "        ss=ames_classification_model.predict([[ Overall_qual, Gr_liv_area, Garage_cars, Garage_area, Total_bsmt_sf ]])\n",
    "    return render_template('classification_prediction.html',prediction=ss)"
   ]
  },
  {
   "cell_type": "code",
   "execution_count": 6,
   "metadata": {},
   "outputs": [],
   "source": [
    "@app.route('/ames_regression.html')\n",
    "def ames_regression(name=None):\n",
    "    \n",
    "        return render_template('ames_regression.html',name=name)\n",
    "    \n",
    "@app.route('/regression_prediction.html\"',methods=[\"GET\",\"POST\"])\n",
    "def get_values():\n",
    "    if request.method==\"POST\": \n",
    "        Overall_qual=int(request.form.get('overall_qual'))\n",
    "        Gr_liv_area=int (request.form.get('gr_liv_area'))\n",
    "        Garage_cars =float (request.form.get('garage_cars'))\n",
    "        Garage_area=float(request.form.get('garage_area'))\n",
    "        Total_bsmt_sf=float(request.form.get('total_bsmt_sf'))\n",
    "        \n",
    "        ss=ames_regression_model.predict([[ Overall_qual, Gr_liv_area, Garage_cars, Garage_area, Total_bsmt_sf ]])\n",
    "    return render_template('regression_prediction.html',prediction=ss)"
   ]
  },
  {
   "cell_type": "code",
   "execution_count": 7,
   "metadata": {},
   "outputs": [
    {
     "name": "stdout",
     "output_type": "stream",
     "text": [
      " * Serving Flask app '__main__'\n",
      " * Debug mode: off\n"
     ]
    },
    {
     "name": "stderr",
     "output_type": "stream",
     "text": [
      "WARNING: This is a development server. Do not use it in a production deployment. Use a production WSGI server instead.\n",
      " * Running on http://127.0.0.1:7000\n",
      "Press CTRL+C to quit\n",
      "127.0.0.1 - - [14/May/2024 19:06:02] \"GET / HTTP/1.1\" 200 -\n",
      "127.0.0.1 - - [14/May/2024 19:06:03] \"GET /static/styles.css HTTP/1.1\" 304 -\n",
      "127.0.0.1 - - [14/May/2024 19:06:05] \"GET /about_ames.html HTTP/1.1\" 200 -\n",
      "127.0.0.1 - - [14/May/2024 19:06:05] \"GET /static/styles.css HTTP/1.1\" 304 -\n",
      "127.0.0.1 - - [14/May/2024 19:06:08] \"GET /ames_classification.html HTTP/1.1\" 200 -\n",
      "127.0.0.1 - - [14/May/2024 19:06:08] \"GET /static/styles.css HTTP/1.1\" 304 -\n",
      "127.0.0.1 - - [14/May/2024 19:06:12] \"GET /ames_regression.html HTTP/1.1\" 200 -\n",
      "127.0.0.1 - - [14/May/2024 19:06:12] \"GET /static/styles.css HTTP/1.1\" 304 -\n",
      "c:\\Users\\apath\\AppData\\Local\\Programs\\Python\\Python311\\Lib\\site-packages\\sklearn\\base.py:493: UserWarning: X does not have valid feature names, but LinearRegression was fitted with feature names\n",
      "  warnings.warn(\n",
      "127.0.0.1 - - [14/May/2024 19:06:15] \"POST /regression_prediction.html\" HTTP/1.1\" 200 -\n",
      "127.0.0.1 - - [14/May/2024 19:11:06] \"GET /about_ames.html HTTP/1.1\" 200 -\n",
      "127.0.0.1 - - [14/May/2024 19:11:06] \"GET /static/styles.css HTTP/1.1\" 304 -\n",
      "127.0.0.1 - - [14/May/2024 19:11:16] \"GET /ames_classification.html HTTP/1.1\" 200 -\n",
      "127.0.0.1 - - [14/May/2024 19:11:16] \"GET /static/styles.css HTTP/1.1\" 304 -\n",
      "127.0.0.1 - - [14/May/2024 19:11:27] \"GET /ames_regression.html HTTP/1.1\" 200 -\n",
      "127.0.0.1 - - [14/May/2024 19:11:27] \"GET /static/styles.css HTTP/1.1\" 304 -\n",
      "127.0.0.1 - - [14/May/2024 19:13:46] \"GET / HTTP/1.1\" 200 -\n",
      "127.0.0.1 - - [14/May/2024 19:13:46] \"GET /static/styles.css HTTP/1.1\" 304 -\n",
      "127.0.0.1 - - [14/May/2024 19:13:49] \"GET /ames_classification.html HTTP/1.1\" 200 -\n",
      "127.0.0.1 - - [14/May/2024 19:13:49] \"GET /static/styles.css HTTP/1.1\" 304 -\n",
      "127.0.0.1 - - [14/May/2024 19:21:08] \"GET /about_ames.html HTTP/1.1\" 200 -\n",
      "127.0.0.1 - - [14/May/2024 19:21:08] \"GET /static/styles.css HTTP/1.1\" 304 -\n",
      "127.0.0.1 - - [14/May/2024 19:21:10] \"GET /about_titanic.html HTTP/1.1\" 200 -\n",
      "127.0.0.1 - - [14/May/2024 19:21:10] \"GET /static/styles.css HTTP/1.1\" 304 -\n",
      "127.0.0.1 - - [14/May/2024 19:24:37] \"GET /ames_classification.html HTTP/1.1\" 200 -\n",
      "127.0.0.1 - - [14/May/2024 19:24:37] \"GET /static/styles.css HTTP/1.1\" 304 -\n",
      "127.0.0.1 - - [14/May/2024 19:24:43] \"GET /titanic_classification.html HTTP/1.1\" 200 -\n",
      "127.0.0.1 - - [14/May/2024 19:24:43] \"GET /static/styles.css HTTP/1.1\" 304 -\n",
      "127.0.0.1 - - [14/May/2024 19:30:52] \"GET /about_ames.html HTTP/1.1\" 200 -\n",
      "127.0.0.1 - - [14/May/2024 19:30:52] \"GET /static/styles.css HTTP/1.1\" 304 -\n"
     ]
    }
   ],
   "source": [
    "if __name__ == '__main__':\n",
    "    app.run(port=7000)"
   ]
  },
  {
   "cell_type": "code",
   "execution_count": null,
   "metadata": {},
   "outputs": [],
   "source": []
  }
 ],
 "metadata": {
  "kernelspec": {
   "display_name": "Python 3",
   "language": "python",
   "name": "python3"
  },
  "language_info": {
   "codemirror_mode": {
    "name": "ipython",
    "version": 3
   },
   "file_extension": ".py",
   "mimetype": "text/x-python",
   "name": "python",
   "nbconvert_exporter": "python",
   "pygments_lexer": "ipython3",
   "version": "3.11.6"
  }
 },
 "nbformat": 4,
 "nbformat_minor": 2
}
