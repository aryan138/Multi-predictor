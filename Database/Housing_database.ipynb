{
 "cells": [
  {
   "cell_type": "code",
   "execution_count": 1,
   "id": "8fcf6ea8-0b37-42a0-b82b-98650d1494ba",
   "metadata": {},
   "outputs": [],
   "source": [
    "import sqlite3\n",
    "import pandas as pd"
   ]
  },
  {
   "cell_type": "code",
   "execution_count": 3,
   "id": "5fa885e6-c6f3-4a8d-ac28-e5d26f9e4a86",
   "metadata": {},
   "outputs": [],
   "source": [
    "processed_dataset_path = \"../Data_Collection/processed_ames_housing.csv\"\n",
    "df = pd.read_csv(processed_dataset_path)"
   ]
  },
  {
   "cell_type": "code",
   "execution_count": 4,
   "id": "867649f9-0de9-43ec-be91-5ab7e12b7595",
   "metadata": {},
   "outputs": [],
   "source": [
    "conn = sqlite3.connect(\"ames_housing.db\")"
   ]
  },
  {
   "cell_type": "code",
   "execution_count": 5,
   "id": "edf19e70-51c1-435d-85cc-8c50ef6c48b4",
   "metadata": {},
   "outputs": [],
   "source": [
    "cur = conn.cursor()"
   ]
  },
  {
   "cell_type": "code",
   "execution_count": 6,
   "id": "3d04ba53-0ab3-4720-8473-53769df72df4",
   "metadata": {},
   "outputs": [
    {
     "data": {
      "text/plain": [
       "<sqlite3.Cursor at 0x1c8fea3c4c0>"
      ]
     },
     "execution_count": 6,
     "metadata": {},
     "output_type": "execute_result"
    }
   ],
   "source": [
    "cur.execute('''CREATE TABLE IF NOT EXISTS ames_housing (\n",
    "                id INTEGER PRIMARY KEY,\n",
    "                OverallQual INTEGER,\n",
    "                GrLivArea INTEGER,\n",
    "                GarageCars INTEGER,\n",
    "                GarageArea REAL,\n",
    "                TotalBsmtSF REAL,\n",
    "                FirstFlrSF REAL,\n",
    "                YearBuilt INTEGER,\n",
    "                YearRemodAdd INTEGER,\n",
    "                FullBath INTEGER,\n",
    "                TotRmsAbvGrd INTEGER,\n",
    "                Neighborhood TEXT,\n",
    "                SalePrice REAL\n",
    "            )''')"
   ]
  },
  {
   "cell_type": "code",
   "execution_count": 7,
   "id": "8dfbd860-ef73-418d-a529-a2c4e5d1073b",
   "metadata": {},
   "outputs": [
    {
     "data": {
      "text/plain": [
       "2928"
      ]
     },
     "execution_count": 7,
     "metadata": {},
     "output_type": "execute_result"
    }
   ],
   "source": [
    "df.to_sql('ames_housing', conn, if_exists='replace', index=False)"
   ]
  },
  {
   "cell_type": "code",
   "execution_count": 8,
   "id": "72298b6d-2c7b-4cf5-a688-0e10daefd26d",
   "metadata": {},
   "outputs": [],
   "source": [
    "conn.commit()\n",
    "conn.close()"
   ]
  },
  {
   "cell_type": "code",
   "execution_count": null,
   "id": "a9b4623b-cdc7-4ee1-bdd4-b7b67108a3c3",
   "metadata": {},
   "outputs": [],
   "source": []
  }
 ],
 "metadata": {
  "kernelspec": {
   "display_name": "Python 3 (ipykernel)",
   "language": "python",
   "name": "python3"
  },
  "language_info": {
   "codemirror_mode": {
    "name": "ipython",
    "version": 3
   },
   "file_extension": ".py",
   "mimetype": "text/x-python",
   "name": "python",
   "nbconvert_exporter": "python",
   "pygments_lexer": "ipython3",
   "version": "3.11.6"
  }
 },
 "nbformat": 4,
 "nbformat_minor": 5
}
