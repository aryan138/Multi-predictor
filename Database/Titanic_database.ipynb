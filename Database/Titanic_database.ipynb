{
 "cells": [
  {
   "cell_type": "code",
   "execution_count": 1,
   "id": "47570792-28db-42de-9041-dda7a5b92d73",
   "metadata": {},
   "outputs": [],
   "source": [
    "import sqlite3\n",
    "import pandas as pd"
   ]
  },
  {
   "cell_type": "code",
   "execution_count": 3,
   "id": "ad7d7587-fefb-4b58-8594-1fdb2531b270",
   "metadata": {},
   "outputs": [],
   "source": [
    "processed_dataset_path = \"../Data_Collection/processed_titanic_train.csv\"\n",
    "df = pd.read_csv(processed_dataset_path)"
   ]
  },
  {
   "cell_type": "code",
   "execution_count": 4,
   "id": "2bd9d97d-5e03-4c9e-9c5f-22517e7b9752",
   "metadata": {},
   "outputs": [],
   "source": [
    "conn = sqlite3.connect(\"titanic.db\")"
   ]
  },
  {
   "cell_type": "code",
   "execution_count": 5,
   "id": "2673493c-8f2c-4bdc-9d87-fe3a79f0dca8",
   "metadata": {},
   "outputs": [],
   "source": [
    "cur = conn.cursor()"
   ]
  },
  {
   "cell_type": "code",
   "execution_count": 6,
   "id": "eeeb8e4d-0813-42b6-9aae-83c431bfaecc",
   "metadata": {},
   "outputs": [
    {
     "data": {
      "text/plain": [
       "<sqlite3.Cursor at 0x268f10f04c0>"
      ]
     },
     "execution_count": 6,
     "metadata": {},
     "output_type": "execute_result"
    }
   ],
   "source": [
    "cur.execute('''CREATE TABLE IF NOT EXISTS titanic (\n",
    "                Survived INTEGER,\n",
    "                Pclass INTEGER,\n",
    "                Sex TEXT,\n",
    "                Age REAL,\n",
    "                SibSp INTEGER,\n",
    "                Parch INTEGER,\n",
    "                Fare REAL,\n",
    "                Embarked TEXT,\n",
    "                FamilySize INTEGER\n",
    "            )''')"
   ]
  },
  {
   "cell_type": "code",
   "execution_count": 7,
   "id": "4b311391-7a61-457f-bdb7-b13b3f9abcad",
   "metadata": {},
   "outputs": [
    {
     "data": {
      "text/plain": [
       "889"
      ]
     },
     "execution_count": 7,
     "metadata": {},
     "output_type": "execute_result"
    }
   ],
   "source": [
    "df.to_sql('titanic', conn, if_exists='replace', index=False)"
   ]
  },
  {
   "cell_type": "code",
   "execution_count": 8,
   "id": "f03f0e7b-c0b6-44f0-86a2-fd11a2f378e4",
   "metadata": {},
   "outputs": [],
   "source": [
    "conn.commit()\n",
    "conn.close()"
   ]
  }
 ],
 "metadata": {
  "kernelspec": {
   "display_name": "Python 3 (ipykernel)",
   "language": "python",
   "name": "python3"
  },
  "language_info": {
   "codemirror_mode": {
    "name": "ipython",
    "version": 3
   },
   "file_extension": ".py",
   "mimetype": "text/x-python",
   "name": "python",
   "nbconvert_exporter": "python",
   "pygments_lexer": "ipython3",
   "version": "3.11.6"
  }
 },
 "nbformat": 4,
 "nbformat_minor": 5
}
